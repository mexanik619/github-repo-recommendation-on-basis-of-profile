{
 "cells": [
  {
   "cell_type": "code",
   "execution_count": 3,
   "metadata": {},
   "outputs": [
    {
     "name": "stdout",
     "output_type": "stream",
     "text": [
      "Recommended projects for bob: ['projectB', 'projectC']\n"
     ]
    }
   ],
   "source": [
    "import pandas as pd\n",
    "from scipy.sparse import csr_matrix\n",
    "from sklearn.metrics.pairwise import cosine_similarity\n",
    "\n",
    "\n",
    "#for\n",
    "\n",
    "# Sample interaction data\n",
    "data = [\n",
    "    {\"developer\": \"alice\", \"project\": \"projectA\", \"commits\": 5, \"pull_requests\": 2, \"stars\": 1},\n",
    "    {\"developer\": \"alice\", \"project\": \"projectB\", \"commits\": 2, \"pull_requests\": 0, \"stars\": 1},\n",
    "    {\"developer\": \"alice\", \"project\": \"projectC\", \"commits\": 2, \"pull_requests\": 1, \"stars\": 3},\n",
    "    {\"developer\": \"bob\", \"project\": \"projectA\", \"commits\": 3, \"pull_requests\": 1, \"stars\": 0},\n",
    "    {\"developer\": \"charlie\", \"project\": \"projectC\", \"commits\": 1, \"pull_requests\": 0, \"stars\": 0},\n",
    "    {\"developer\": \"ask\", \"project\": \"projectA\", \"commits\": 2, \"pull_requests\": 1, \"stars\": 3}\n",
    "]\n",
    "\n",
    "# Convert to DataFrame\n",
    "df = pd.DataFrame(data)\n",
    "\n",
    "# Define weights\n",
    "w_commits, w_prs, w_stars = 2.0, 0.5, 4.0\n",
    "\n",
    "# Compute interaction scores\n",
    "df[\"interaction\"] = (\n",
    "    w_commits * df[\"commits\"] +\n",
    "    w_prs * df[\"pull_requests\"] +\n",
    "    w_stars * df[\"stars\"]\n",
    ")\n",
    "\n",
    "# Create user-item matrix\n",
    "user_item_matrix = df.pivot_table(index='developer', columns='project', values='interaction', fill_value=0)\n",
    "\n",
    "# Convert to sparse matrix\n",
    "sparse_matrix = csr_matrix(user_item_matrix.values)\n",
    "\n",
    "# Compute cosine similarity between developers\n",
    "similarities = cosine_similarity(sparse_matrix)\n",
    "\n",
    "# Convert to DataFrame for readability\n",
    "similarity_df = pd.DataFrame(similarities, index=user_item_matrix.index, columns=user_item_matrix.index)\n",
    "\n",
    "# Function to recommend projects\n",
    "def recommend_projects(target_developer, user_item_matrix, similarity_df, top_n=2):\n",
    "    if target_developer not in user_item_matrix.index:\n",
    "        return f\"Developer {target_developer} not found.\"\n",
    "    \n",
    "    # Get similar developers\n",
    "    similar_devs = similarity_df[target_developer].drop(target_developer).sort_values(ascending=False)\n",
    "\n",
    "    # Get projects the target developer has already interacted with\n",
    "    seen_projects = set(user_item_matrix.loc[target_developer][user_item_matrix.loc[target_developer] > 0].index)\n",
    "\n",
    "    # Get projects from similar developers\n",
    "    recommendations = {}\n",
    "    for similar_dev, similarity_score in similar_devs.items():\n",
    "        similar_projects = user_item_matrix.loc[similar_dev][user_item_matrix.loc[similar_dev] > 0].index\n",
    "        for project in similar_projects:\n",
    "            if project not in seen_projects:\n",
    "                recommendations[project] = recommendations.get(project, 0) + similarity_score\n",
    "\n",
    "    # Sort recommendations by strength and return top N\n",
    "    sorted_recommendations = sorted(recommendations.items(), key=lambda x: x[1], reverse=True)\n",
    "    return [project for project, score in sorted_recommendations[:top_n]]\n",
    "\n",
    "# Example: Recommend projects for Alice\n",
    "print(\"Recommended projects for bob:\", recommend_projects(\"bob\", user_item_matrix, similarity_df))\n"
   ]
  },
  {
   "cell_type": "code",
   "execution_count": null,
   "metadata": {},
   "outputs": [],
   "source": []
  }
 ],
 "metadata": {
  "kernelspec": {
   "display_name": "Python 3 (ipykernel)",
   "language": "python",
   "name": "python3"
  },
  "language_info": {
   "codemirror_mode": {
    "name": "ipython",
    "version": 3
   },
   "file_extension": ".py",
   "mimetype": "text/x-python",
   "name": "python",
   "nbconvert_exporter": "python",
   "pygments_lexer": "ipython3",
   "version": "3.12.6"
  }
 },
 "nbformat": 4,
 "nbformat_minor": 4
}
